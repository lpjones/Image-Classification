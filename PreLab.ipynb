{
  "cells": [
    {
      "cell_type": "markdown",
      "metadata": {
        "id": "BqCC5FT49oXl"
      },
      "source": [
        "# Lab 3 Pre-Lab: Neural Networks & Computer Vision Basics\n",
        "\n",
        "You are NOT allowed to import any other libraries in this notebook otherwise points will be deducted. If you need to please confirm with the TA.\n",
        "`''' TODO '''` Indicates where your solution code should go. Please ensure code is readable easily.\n"
      ]
    },
    {
      "cell_type": "markdown",
      "metadata": {
        "id": "4t8b2R1sXawL"
      },
      "source": [
        "## 1. Simple Neural Network\n",
        "\n",
        "For this task, you'll implement a rudimentary neural network with one hidden layer.\n",
        "\n",
        "**Network Architecture:**\n",
        "\n",
        "- **Input Layer:**\n",
        "   - 3 neurons\n",
        "- **Hidden Layer:**\n",
        "   - 6 neurons\n",
        "   - Weight matrix `W1` and bias vector `b1`\n",
        "   - Activation: ReLU\n",
        "- **Output Layer:**\n",
        "   - 4 neurons\n",
        "   - Weight matrix `W2` and bias vector `b2`\n",
        "   - Activation: Sigmoid\n",
        "\n",
        "**Tasks:**\n",
        "\n",
        "1. **Activation Function:**\n",
        "   - Implement the ReLU and sigmoid activation functions manually, without using external libraries for this purpose.\n",
        "\n",
        "      ReLU: \n",
        "      $$ \\text{ReLU}(z) = \\max(0, z) $$\n",
        "\n",
        "      Sigmoid: \n",
        "      $$ \\sigma(z) = \\frac{1}{1 + e^{-z}} $$\n",
        "\n",
        "2. **Initialization:**\n",
        "   - Create an input vector `X` with 3 random values between 0 and 1.\n",
        "   - Based on the network architecture, initialize the weight matrices `W1` and `W2` with random values between 0 and 1.\n",
        "   - Similarly, initialize the bias vectors `b1` and `b2` with random values between 0 and 1.\n",
        "\n",
        "   You can use `np.random.rand()`\n",
        "\n",
        "3. **Forward Pass:**\n",
        "   - Using the initialized values and considering the specified network architecture, perform the forward pass through the network. Make sure to:\n",
        "     - Compute the activations for the hidden layer.\n",
        "     - Apply the ReLU activation function.\n",
        "     - Compute the activations for the output layer.\n",
        "     - Apply the sigmoid activation function to get the final output.\n",
        "\n",
        "4. **Display the Result:**\n",
        "   - Print the final output from the neural network.\n",
        "\n",
        "**Note:**\n",
        "Ensure the matrices' shapes are compatible throughout the network. Do not use external libraries for the forward pass. You are not allowed to import any other libraries.\n"
      ]
    },
    {
      "cell_type": "code",
      "execution_count": null,
      "metadata": {
        "id": "OptQz_RzY_qm"
      },
      "outputs": [],
      "source": [
        "import numpy as np\n",
        "np.random.seed(42) # Do not modify\n",
        "\n",
        "# Activation Functions\n",
        "def relu(z):\n",
        "    ''' TODO '''\n",
        "\n",
        "def sigmoid(z):\n",
        "    ''' TODO '''\n",
        "\n",
        "# 1. Initialization\n",
        "X = ''' TODO '''\n",
        "W1 = ''' TODO '''\n",
        "W2 = ''' TODO '''\n",
        "b1 = ''' TODO '''\n",
        "b2 = ''' TODO '''\n",
        "\n",
        "# 2. Forward Pass\n",
        "A2 = ''' TODO '''\n",
        "\n",
        "# 3. Display the Result\n",
        "print(\"Final Output A2:\")\n",
        "print(A2)\n"
      ]
    },
    {
      "cell_type": "markdown",
      "metadata": {
        "id": "_bynnMEzOE6z"
      },
      "source": [
        "## 2. Image Manipulations\n",
        "\n",
        "You will be working with and manipulating `messi.jpeg` which is found in your repos.\n",
        "\n",
        "**Tasks:**\n",
        "\n",
        "1. **Image Display:**\n",
        "   Load image`'messi.jpeg'` using PIL. Display the loaded image using matplotlib. You may find `open()` from PIL and `imshow()` from matplotlib useful.\n",
        "\n",
        "2. **Image to Numpy Array:**\n",
        "   Convert the image into a NumPy array and print its shape.\n",
        "\n",
        "3. **Color Channels:**\n",
        "   Split the image into its R, G, B channels and display each channel separately.\n",
        "\n",
        "4. **Grayscale Conversion:**\n",
        "   Convert the image to grayscale and display the grayscale image.\n",
        "\n",
        "5. **Image Normalization:**\n",
        "   Normalize the grayscale image such that values are in the range [0,1]. Print the minimum and maximum values before and after normalization.\n",
        "\n",
        "6. **Image Crop:**\n",
        "   Extract a center crop of 500x500 from the grayscale image and display the resized image.\n",
        "\n",
        "7. **Convolution with Sobel Kernel:**\n",
        "Manually apply convolution (do not use built-in functions like `numpy.convolve` or `scipy.signal.convolve2d`) to the cropped 500x500 image using the Sobel kernel provided below. Display the convoluted image.\n",
        "   \n",
        "   Sobel kernel:\n",
        "   `[[-1, 0, 1],\n",
        "    [-2, 0, 2],\n",
        "    [-1, 0, 1]]`\n"
      ]
    },
    {
      "cell_type": "code",
      "execution_count": null,
      "metadata": {
        "id": "A2VT24GbS2X7"
      },
      "outputs": [],
      "source": [
        "import matplotlib.pyplot as plt\n",
        "import numpy as np\n",
        "from PIL import Image\n",
        "\n",
        "# 1. Load the image using PIL & Display\n",
        "''' TODO '''\n",
        "\n",
        "# 2. Image to Numpy Array\n",
        "''' TODO '''\n",
        "\n",
        "# 3. Color Channels\n",
        "''' TODO '''\n",
        "\n",
        "# 4. Grayscale Conversion\n",
        "''' TODO '''\n",
        "\n",
        "# 5. Image Normalization\n",
        "''' TODO '''\n",
        "\n",
        "# 6. Image Center Crop\n",
        "''' TODO '''\n",
        "\n",
        "# 7. Convolution with Sobel Kernel\n",
        "''' TODO '''\n"
      ]
    }
  ],
  "metadata": {
    "colab": {
      "provenance": []
    },
    "kernelspec": {
      "display_name": "Python 3",
      "name": "python3"
    },
    "language_info": {
      "name": "python"
    }
  },
  "nbformat": 4,
  "nbformat_minor": 0
}
