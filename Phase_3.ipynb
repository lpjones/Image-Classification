{
  "cells": [
    {
      "cell_type": "markdown",
      "id": "b4fcbbf9",
      "metadata": {
        "id": "b4fcbbf9"
      },
      "source": [
        "# Phase 3 - Vehicle Classification\n",
        "\n",
        "This is an open ended phase. You must build a classifier for the Stanford Cars Dataset. You can use any techniques and knowledge from Phase 1 & 2 to aid you. The ultimate goal is to get as good performance as you can on the test set.\n",
        "\n",
        "Please follow TA instructions in lab to learn how to access the data.\n",
        "\n",
        "**Note**: You will need to achieve more than 80% accuracy on the test set to receive credit for Phase 3!"
      ]
    },
    {
      "cell_type": "markdown",
      "id": "1db58858",
      "metadata": {
        "id": "1db58858"
      },
      "source": [
        "# Imports\n",
        "\n",
        "Import all the libraries you need for your project"
      ]
    },
    {
      "cell_type": "code",
      "execution_count": null,
      "id": "973648bc",
      "metadata": {
        "id": "973648bc"
      },
      "outputs": [],
      "source": [
        "''' TODO '''"
      ]
    },
    {
      "cell_type": "markdown",
      "id": "60b0e403",
      "metadata": {
        "id": "60b0e403"
      },
      "source": [
        "## 1) Load Dataset\n",
        "The Stanford Dataset is not provided in ```torchvision.datasets```. You will need to create your inherit from ```Dataset``` class to load the dataset and overload the ```___init__()```, ```__len__()```, and ```__getitem__()``` functions.\n",
        "\n",
        "You will find the following link useful to help create the dataset class: https://pytorch.org/tutorials/beginner/data_loading_tutorial.html\n",
        "\n",
        "If you wish, you can create another method in the class: ```visualize()``` to help visualize the data. This is optional and will not be graded"
      ]
    },
    {
      "cell_type": "code",
      "execution_count": null,
      "id": "9f3d9953",
      "metadata": {
        "id": "9f3d9953"
      },
      "outputs": [],
      "source": [
        "class CarDataSet(Dataset):\n",
        "\n",
        "    def __init__(''' TODO '''):\n",
        "        ''' TODO '''\n",
        "\n",
        "    def __len__(''' TODO '''):\n",
        "        ''' TODO '''\n",
        "\n",
        "    def __getitem__(''' TODO '''):\n",
        "        ''' TODO '''"
      ]
    },
    {
      "cell_type": "code",
      "execution_count": null,
      "id": "a029cc2d",
      "metadata": {
        "id": "a029cc2d"
      },
      "outputs": [],
      "source": [
        "# Load the Data\n",
        "train_data = CarDataSet(''' TODO ''')\n",
        "test_data = CarDataSet(''' TODO ''')\n",
        "\n",
        "# Batch Size\n",
        "batch_size = ''' TODO '''\n",
        "\n",
        "# Import to Dataloaders\n",
        "train_loader = ''' TODO '''\n",
        "\n",
        "test_loader = ''' TODO '''"
      ]
    },
    {
      "cell_type": "markdown",
      "id": "ad2acc24",
      "metadata": {
        "id": "ad2acc24"
      },
      "source": [
        "## 2) Define your Model Architecture\n",
        "\n",
        "It is up to you to decide which model you use. You can create yor own CNN or use transfer learning."
      ]
    },
    {
      "cell_type": "code",
      "execution_count": null,
      "id": "ed0019e8",
      "metadata": {
        "id": "ed0019e8"
      },
      "outputs": [],
      "source": [
        "# Model definition\n",
        "''' TODO '''\n",
        "\n",
        "# Load Model onto GPU\n",
        "''' TODO '''"
      ]
    },
    {
      "cell_type": "markdown",
      "id": "bfa8640d",
      "metadata": {
        "id": "bfa8640d"
      },
      "source": [
        "## 3) Define Loss function and Optimizer\n",
        "\n",
        "You chose the loss function and optimizer."
      ]
    },
    {
      "cell_type": "code",
      "execution_count": null,
      "id": "79721682",
      "metadata": {
        "id": "79721682"
      },
      "outputs": [],
      "source": [
        "# Loss Function\n",
        "''' TODO '''\n",
        "\n",
        "# Optimizer\n",
        "''' TODO '''"
      ]
    },
    {
      "cell_type": "markdown",
      "id": "79da9193",
      "metadata": {
        "id": "79da9193"
      },
      "source": [
        "## 4) Train your Network"
      ]
    },
    {
      "cell_type": "code",
      "execution_count": null,
      "id": "69ad54c7",
      "metadata": {
        "id": "69ad54c7"
      },
      "outputs": [],
      "source": [
        "# Train Network\n",
        "''' TODO '''"
      ]
    },
    {
      "cell_type": "markdown",
      "id": "8287fe6d",
      "metadata": {
        "id": "8287fe6d"
      },
      "source": [
        "## 4) Evaluate (on Test Set)"
      ]
    },
    {
      "cell_type": "code",
      "execution_count": null,
      "id": "c6cd42f8",
      "metadata": {
        "id": "c6cd42f8"
      },
      "outputs": [],
      "source": [
        "# Test Accuracy\n",
        "''' TODO '''"
      ]
    },
    {
      "cell_type": "markdown",
      "source": [
        "## 5) Report\n",
        "\n",
        "Please write a report discussing all your choices and procedure to implement your vehicle classifier. In your report, include all your choices (i.e. hyperparameters, lr, models, loss, optimizer) and explain why you made those choices to achieve your performance. Your report must be thorough and comprehensive, please discuss fully how you were able to obtain a high performance."
      ],
      "metadata": {
        "id": "3EB0LqCMieIh"
      },
      "id": "3EB0LqCMieIh"
    },
    {
      "cell_type": "code",
      "source": [],
      "metadata": {
        "id": "liGaUkuqiqd4"
      },
      "id": "liGaUkuqiqd4",
      "execution_count": null,
      "outputs": []
    }
  ],
  "metadata": {
    "kernelspec": {
      "display_name": "Python 3 (ipykernel)",
      "language": "python",
      "name": "python3"
    },
    "language_info": {
      "codemirror_mode": {
        "name": "ipython",
        "version": 3
      },
      "file_extension": ".py",
      "mimetype": "text/x-python",
      "name": "python",
      "nbconvert_exporter": "python",
      "pygments_lexer": "ipython3",
      "version": "3.8.11"
    },
    "colab": {
      "provenance": []
    }
  },
  "nbformat": 4,
  "nbformat_minor": 5
}